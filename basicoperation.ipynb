{
 "cells": [
  {
   "cell_type": "code",
   "execution_count": 1,
   "id": "abdc493c-6e76-4df6-bc58-b47359c50b00",
   "metadata": {},
   "outputs": [
    {
     "name": "stdout",
     "output_type": "stream",
     "text": [
      "5.0\n"
     ]
    }
   ],
   "source": [
    "def numbers(x, y):\n",
    "  if x > y:\n",
    "    return x/y\n",
    "  elif x < y:\n",
    "    return y/x\n",
    "  else:\n",
    "    print(\"no result\")\n",
    "result = numbers(10, 2)\n",
    "print(result)"
   ]
  },
  {
   "cell_type": "code",
   "execution_count": 42,
   "id": "81718f11-bbc6-4980-b88c-d1b152ea2897",
   "metadata": {},
   "outputs": [
    {
     "name": "stdout",
     "output_type": "stream",
     "text": [
      "Select operation:\n",
      "1. Add\n",
      "2. Multiply\n",
      "3. Subtract\n",
      "4. Divide\n",
      "5. Exit\n"
     ]
    },
    {
     "name": "stdin",
     "output_type": "stream",
     "text": [
      "Enter choice(1/2/3/4/5)  5\n"
     ]
    }
   ],
   "source": [
    "def multiply_numbers(x, y):\n",
    "  \"\"\"This function multiplies two numbers and returns the product.\"\"\"\n",
    "  return x * y\n",
    "\n",
    "def subtract_numbers(x, y):\n",
    "  \"\"\"This function subtracts two numbers and returns the difference.\"\"\"\n",
    "  return x - y\n",
    "\n",
    "def divide_numbers(x, y):\n",
    "  \"\"\"This function divides two numbers and returns the quotient.\"\"\"\n",
    "  if y == 0:\n",
    "    return \"Division by zero error!\" \n",
    "  else:\n",
    "    return x / y\n",
    "\n",
    "while True:\n",
    "  print(\"Select operation:\")\n",
    "  print(\"1. Add\")\n",
    "  print(\"2. Multiply\")\n",
    "  print(\"3. Subtract\")\n",
    "  print(\"4. Divide\")\n",
    "  print(\"5. Exit\")\n",
    "\n",
    "  choice = input(\"Enter choice(1/2/3/4/5) \")\n",
    "\n",
    "  if choice in ('1', '2', '3', '4'):\n",
    "    try:\n",
    "      num1 = float(input(\"Enter first number: \"))\n",
    "      num2 = float(input(\"Enter second number: \"))\n",
    "    except ValueError:\n",
    "      print(\"Invalid input. Please enter numbers only.\")\n",
    "      continue\n",
    "\n",
    "    if choice == '1':\n",
    "      print(num1, \"+\", num2, \"=\", add_numbers(num1, num2))\n",
    "    elif choice == '2':\n",
    "      print(num1, \"*\", num2, \"=\", multiply_numbers(num1, num2))\n",
    "    elif choice == '3':\n",
    "      print(num1, \"-\", num2, \"=\", subtract_numbers(num1, num2))\n",
    "    elif choice == '4':\n",
    "      print(num1, \"/\", num2, \"=\", divide_numbers(num1, num2))\n",
    "  elif choice == '5':\n",
    "    break\n",
    "  else:\n",
    "    print(\"Invalid input\")"
   ]
  },
  {
   "cell_type": "code",
   "execution_count": 44,
   "id": "809c5299-1265-41ad-a6ef-536b9c480c8d",
   "metadata": {},
   "outputs": [
    {
     "ename": "SyntaxError",
     "evalue": "invalid syntax (1890613596.py, line 1)",
     "output_type": "error",
     "traceback": [
      "\u001b[1;36m  Cell \u001b[1;32mIn[44], line 1\u001b[1;36m\u001b[0m\n\u001b[1;33m    int 3.2\u001b[0m\n\u001b[1;37m        ^\u001b[0m\n\u001b[1;31mSyntaxError\u001b[0m\u001b[1;31m:\u001b[0m invalid syntax\n"
     ]
    }
   ],
   "source": [
    "int 3.2"
   ]
  },
  {
   "cell_type": "code",
   "execution_count": 46,
   "id": "bcaa48e2-6046-430f-a176-c3dcf2fe2fa0",
   "metadata": {},
   "outputs": [
    {
     "ename": "SyntaxError",
     "evalue": "invalid syntax (4280435188.py, line 1)",
     "output_type": "error",
     "traceback": [
      "\u001b[1;36m  Cell \u001b[1;32mIn[46], line 1\u001b[1;36m\u001b[0m\n\u001b[1;33m    integer: int 3.2\u001b[0m\n\u001b[1;37m                 ^\u001b[0m\n\u001b[1;31mSyntaxError\u001b[0m\u001b[1;31m:\u001b[0m invalid syntax\n"
     ]
    }
   ],
   "source": [
    "integer: int 3.2"
   ]
  },
  {
   "cell_type": "code",
   "execution_count": 48,
   "id": "1e34eb4d-e5bb-4a9f-a478-33e43fac095b",
   "metadata": {},
   "outputs": [
    {
     "name": "stdout",
     "output_type": "stream",
     "text": [
      "7\n"
     ]
    }
   ],
   "source": [
    "print(4+3)"
   ]
  },
  {
   "cell_type": "code",
   "execution_count": 52,
   "id": "d23aba56-c8f2-4d77-8480-b2b85adc8796",
   "metadata": {},
   "outputs": [
    {
     "name": "stdout",
     "output_type": "stream",
     "text": [
      "4 + 3\n"
     ]
    }
   ],
   "source": [
    "print('4',\"+\",'3')"
   ]
  },
  {
   "cell_type": "code",
   "execution_count": 58,
   "id": "cce4271d-99cb-4840-8b49-848e45996df0",
   "metadata": {},
   "outputs": [
    {
     "name": "stdin",
     "output_type": "stream",
     "text": [
      "Enter first number: 6\n"
     ]
    }
   ],
   "source": [
    "first_number = int(input(\"Enter first number:\"))"
   ]
  },
  {
   "cell_type": "code",
   "execution_count": 62,
   "id": "498473f5-571f-40dc-9ce6-ca419995eff0",
   "metadata": {},
   "outputs": [
    {
     "name": "stdin",
     "output_type": "stream",
     "text": [
      "Enter first number: 6.5\n"
     ]
    }
   ],
   "source": [
    "first_number = input(\"Enter first number:\")"
   ]
  },
  {
   "cell_type": "code",
   "execution_count": 12,
   "id": "71aa0471-0e5d-4f06-b3e1-3185bb2bd559",
   "metadata": {},
   "outputs": [
    {
     "name": "stdin",
     "output_type": "stream",
     "text": [
      "Enter student's name (or press enter to stop):  irfan\n",
      "Enter email address:  irfan.mustafa@aiou.edu.pk\n",
      "Enter cell number:  03315061581\n",
      "Enter student's name (or press enter to stop):  \n",
      "Enter name to search:  irfan\n"
     ]
    },
    {
     "name": "stdout",
     "output_type": "stream",
     "text": [
      "Record found:\n",
      "Name: irfan\n",
      "Email: irfan.mustafa@aiou.edu.pk\n",
      "Cell: 03315061581\n"
     ]
    }
   ],
   "source": [
    "student_records = {}\n",
    "while True:\n",
    "# Step 2: Input section (can be repeated in a loop)\n",
    "    name = input(\"Enter student's name (or press enter to stop): \")\n",
    "    if not name:\n",
    "       break\n",
    "    email = input(\"Enter email address: \")\n",
    "    cell = input(\"Enter cell number: \")\n",
    "# Step 3: Save to dictionary\n",
    "    student_records[name] = {\n",
    "    \"Email\": email,\n",
    "    \"Cell\": cell\n",
    "    }\n",
    "\n",
    "# Step 4: Search by name\n",
    "search_name = input(\"Enter name to search: \")\n",
    "\n",
    "if search_name in student_records:\n",
    "    print(\"Record found:\")\n",
    "    print(\"Name:\", search_name)\n",
    "    print(\"Email:\", student_records[search_name][\"Email\"])\n",
    "    print(\"Cell:\", student_records[search_name][\"Cell\"])\n",
    "else:\n",
    "    print(\"No record found for\", search_name)"
   ]
  },
  {
   "cell_type": "code",
   "execution_count": 18,
   "id": "764ed120-b01a-4838-bd77-6d3db9d60ba5",
   "metadata": {},
   "outputs": [
    {
     "name": "stdout",
     "output_type": "stream",
     "text": [
      "Irfan Mustafa\n"
     ]
    }
   ],
   "source": [
    "str1 = \"Irfan\"\n",
    "str2 = \"Mustafa\"\n",
    "result = str1 + \" \" +str2\n",
    "print(result)"
   ]
  },
  {
   "cell_type": "code",
   "execution_count": 28,
   "id": "2eb3f432-7e2f-4784-aa19-c8a3e88c208d",
   "metadata": {},
   "outputs": [
    {
     "name": "stdout",
     "output_type": "stream",
     "text": [
      "yousufyousufyousuf\n"
     ]
    }
   ],
   "source": [
    "str1 = \"yousuf\"\n",
    "result = str1 *3\n",
    "print(result)"
   ]
  },
  {
   "cell_type": "code",
   "execution_count": 30,
   "id": "0a53f13d-bcfc-457b-8a3d-39256bb15e5c",
   "metadata": {},
   "outputs": [
    {
     "name": "stdout",
     "output_type": "stream",
     "text": [
      "True\n"
     ]
    }
   ],
   "source": [
    "str1 = \"Muhammad Yousuf\"\n",
    "print(\"Yousuf\" in str1)"
   ]
  },
  {
   "cell_type": "code",
   "execution_count": 32,
   "id": "c06b864a-6c4a-4e82-9333-440a88a4f3fd",
   "metadata": {},
   "outputs": [
    {
     "name": "stdout",
     "output_type": "stream",
     "text": [
      "False\n"
     ]
    }
   ],
   "source": [
    "print(\"Muhammad\" not in str1)"
   ]
  },
  {
   "cell_type": "code",
   "execution_count": 34,
   "id": "2378e01f-bf43-4be7-8e6e-e11016d2b01a",
   "metadata": {},
   "outputs": [
    {
     "name": "stdout",
     "output_type": "stream",
     "text": [
      "15\n"
     ]
    }
   ],
   "source": [
    "print(len(str1))"
   ]
  },
  {
   "cell_type": "code",
   "execution_count": 46,
   "id": "6556d19c-eb85-4ebf-9c4e-8158602dc298",
   "metadata": {},
   "outputs": [
    {
     "name": "stdout",
     "output_type": "stream",
     "text": [
      "s\n"
     ]
    }
   ],
   "source": [
    "print(str1[-3])"
   ]
  },
  {
   "cell_type": "code",
   "execution_count": 50,
   "id": "c7159752-770f-4e47-8b3c-03c11636e9df",
   "metadata": {},
   "outputs": [
    {
     "name": "stdout",
     "output_type": "stream",
     "text": [
      "Mhm\n"
     ]
    }
   ],
   "source": [
    "print(str1[0:5:2])"
   ]
  },
  {
   "cell_type": "code",
   "execution_count": 60,
   "id": "135ba554-c43c-4ec0-86d2-83c1a56e482d",
   "metadata": {},
   "outputs": [
    {
     "name": "stdout",
     "output_type": "stream",
     "text": [
      "True\n"
     ]
    }
   ],
   "source": [
    "print(str1 <=str2)"
   ]
  },
  {
   "cell_type": "code",
   "execution_count": 56,
   "id": "665f5eb2-e807-4ec1-883d-657becdc46fd",
   "metadata": {},
   "outputs": [
    {
     "name": "stdout",
     "output_type": "stream",
     "text": [
      "Mustafa\n"
     ]
    }
   ],
   "source": [
    "print(str2)"
   ]
  },
  {
   "cell_type": "code",
   "execution_count": 66,
   "id": "4371c1fe-b5b6-4abe-a60c-95b449010477",
   "metadata": {},
   "outputs": [
    {
     "name": "stdout",
     "output_type": "stream",
     "text": [
      "67\n"
     ]
    }
   ],
   "source": [
    "print(ord('C'))"
   ]
  },
  {
   "cell_type": "code",
   "execution_count": 70,
   "id": "184c976f-563b-49d9-892b-c42a2da20ed9",
   "metadata": {},
   "outputs": [
    {
     "name": "stdout",
     "output_type": "stream",
     "text": [
      "8>3\n"
     ]
    }
   ],
   "source": [
    "print(\"8>3\")"
   ]
  },
  {
   "cell_type": "code",
   "execution_count": 74,
   "id": "ce83062d-3b4e-4516-bc71-286f41839389",
   "metadata": {},
   "outputs": [
    {
     "name": "stdout",
     "output_type": "stream",
     "text": [
      "My name is Irfan nad I am 42 years old.\n"
     ]
    }
   ],
   "source": [
    "name = 'Irfan'\n",
    "age = 42\n",
    "print(\"My name is %s nad I am %d years old.\"% (name, age) )"
   ]
  },
  {
   "cell_type": "code",
   "execution_count": 78,
   "id": "5182c626-9b30-4377-903b-0222d5ab819a",
   "metadata": {},
   "outputs": [
    {
     "name": "stdout",
     "output_type": "stream",
     "text": [
      "My name is Irfan and I am 42 years old.\n"
     ]
    }
   ],
   "source": [
    "print('My name is {} and I am {} years old.' .format(name, age))"
   ]
  },
  {
   "cell_type": "code",
   "execution_count": 80,
   "id": "a95f0723-7d8c-4ce0-9f36-6e29ca6b6abf",
   "metadata": {},
   "outputs": [
    {
     "name": "stdout",
     "output_type": "stream",
     "text": [
      "My name is Irfan and I am 42 years old\n"
     ]
    }
   ],
   "source": [
    "print(f\"My name is {name} and I am {age} years old\")"
   ]
  },
  {
   "cell_type": "code",
   "execution_count": 88,
   "id": "b1c2960a-bbda-4c56-9681-9bd57f9def40",
   "metadata": {},
   "outputs": [
    {
     "name": "stdout",
     "output_type": "stream",
     "text": [
      "My name is Irfan I am 42 years old and I did PhD in Mathematics\n"
     ]
    }
   ],
   "source": [
    "qualification = \"PhD\"\n",
    "subject = \"Math\"\n",
    "print(f\"My name is {name} I am {age} years old and I did {qualification} in Mathematics\")"
   ]
  },
  {
   "cell_type": "code",
   "execution_count": 90,
   "id": "f3484376-1417-47a5-a956-72f6d1a79d62",
   "metadata": {},
   "outputs": [
    {
     "ename": "NameError",
     "evalue": "name 'pi' is not defined",
     "output_type": "error",
     "traceback": [
      "\u001b[1;31m---------------------------------------------------------------------------\u001b[0m",
      "\u001b[1;31mNameError\u001b[0m                                 Traceback (most recent call last)",
      "Cell \u001b[1;32mIn[90], line 1\u001b[0m\n\u001b[1;32m----> 1\u001b[0m pi\n",
      "\u001b[1;31mNameError\u001b[0m: name 'pi' is not defined"
     ]
    }
   ],
   "source": [
    "pi"
   ]
  },
  {
   "cell_type": "code",
   "execution_count": 98,
   "id": "49770262-f47b-4f36-94ca-42c88a520d8f",
   "metadata": {},
   "outputs": [
    {
     "name": "stdout",
     "output_type": "stream",
     "text": [
      "3.14\n"
     ]
    }
   ],
   "source": [
    "pi = 3.1416\n",
    "print(\"%.2f\" % pi)"
   ]
  },
  {
   "cell_type": "raw",
   "id": "76475519-72c3-4968-b053-f53a1850ede4",
   "metadata": {},
   "source": [
    "print(\"%.3f\" % 3.141618)"
   ]
  },
  {
   "cell_type": "code",
   "execution_count": 102,
   "id": "9b9ae97b-7e26-4e8c-b9d1-83b856d7d0f1",
   "metadata": {},
   "outputs": [
    {
     "name": "stdout",
     "output_type": "stream",
     "text": [
      "3.1515\n"
     ]
    }
   ],
   "source": [
    "pi = 3.15146978\n",
    "print(\"%.4f\" % pi)"
   ]
  },
  {
   "cell_type": "code",
   "execution_count": 104,
   "id": "e68806ae-da7b-45c3-9afe-6ec5d65c1a65",
   "metadata": {},
   "outputs": [
    {
     "name": "stdout",
     "output_type": "stream",
     "text": [
      "3.15\n"
     ]
    }
   ],
   "source": [
    "print(\"%.2f\" %pi)"
   ]
  },
  {
   "cell_type": "code",
   "execution_count": 106,
   "id": "4395adcd-1368-4213-9b2d-c9d4897bd557",
   "metadata": {},
   "outputs": [
    {
     "name": "stdout",
     "output_type": "stream",
     "text": [
      "Muhammad Yousuf Mustafa\n"
     ]
    }
   ],
   "source": [
    "print(str1 + \" \" + str2)"
   ]
  },
  {
   "cell_type": "code",
   "execution_count": 118,
   "id": "d29b3c67-38a8-476f-a152-4b3ecf2dfb2d",
   "metadata": {},
   "outputs": [
    {
     "name": "stdout",
     "output_type": "stream",
     "text": [
      "á\n"
     ]
    }
   ],
   "source": [
    "number = 225\n",
    "print(\"%c\" %number)"
   ]
  },
  {
   "cell_type": "code",
   "execution_count": 124,
   "id": "633d11db-0022-4a6e-9ed5-70b0768ac1eb",
   "metadata": {},
   "outputs": [
    {
     "ename": "NameError",
     "evalue": "name 'srt1' is not defined",
     "output_type": "error",
     "traceback": [
      "\u001b[1;31m---------------------------------------------------------------------------\u001b[0m",
      "\u001b[1;31mNameError\u001b[0m                                 Traceback (most recent call last)",
      "Cell \u001b[1;32mIn[124], line 1\u001b[0m\n\u001b[1;32m----> 1\u001b[0m \u001b[38;5;28mprint\u001b[39m(\u001b[38;5;124m\"\u001b[39m\u001b[38;5;132;01m%r\u001b[39;00m\u001b[38;5;124m\"\u001b[39m \u001b[38;5;241m%\u001b[39m srt1)\n",
      "\u001b[1;31mNameError\u001b[0m: name 'srt1' is not defined"
     ]
    }
   ],
   "source": [
    "print(\"%r\" % srt1)"
   ]
  },
  {
   "cell_type": "code",
   "execution_count": 122,
   "id": "b2ab9de6-efcb-4827-b8e1-64571edbd850",
   "metadata": {},
   "outputs": [
    {
     "name": "stdout",
     "output_type": "stream",
     "text": [
      "Muhammad Yousuf\n"
     ]
    }
   ],
   "source": [
    "print(str1)"
   ]
  },
  {
   "cell_type": "code",
   "execution_count": 126,
   "id": "89a8ca66-820e-43d9-a0af-6f9c5434073d",
   "metadata": {},
   "outputs": [
    {
     "name": "stdout",
     "output_type": "stream",
     "text": [
      "'Muhammad Yousuf'\n"
     ]
    }
   ],
   "source": [
    "print(f\"{str1!r}\")"
   ]
  },
  {
   "cell_type": "code",
   "execution_count": 128,
   "id": "3f51e01a-2bae-4d87-8617-17fb1ee7e390",
   "metadata": {},
   "outputs": [
    {
     "name": "stdout",
     "output_type": "stream",
     "text": [
      "'Mustafa'\n"
     ]
    }
   ],
   "source": [
    "print(f\"{str2!r}\")"
   ]
  },
  {
   "cell_type": "code",
   "execution_count": 130,
   "id": "20de023b-b469-42fb-84c1-111f4baa4ac2",
   "metadata": {},
   "outputs": [
    {
     "name": "stdout",
     "output_type": "stream",
     "text": [
      "Irfan\n"
     ]
    }
   ],
   "source": [
    "students = [\"Irfan\", \"Mustafa\", \"Rizwan\", \"Farhan\"]\n",
    "print(students[0])"
   ]
  },
  {
   "cell_type": "code",
   "execution_count": 140,
   "id": "ccba3983-17b5-48de-b2d4-2efd24997da3",
   "metadata": {},
   "outputs": [],
   "source": [
    "students.append(\"Usman\")"
   ]
  },
  {
   "cell_type": "code",
   "execution_count": 142,
   "id": "47161e62-a462-4082-b517-3d9c43470b85",
   "metadata": {},
   "outputs": [
    {
     "name": "stdout",
     "output_type": "stream",
     "text": [
      "['Irfan', 'Mustafa', 'Rizwan', 'Farhan', 'Usman']\n"
     ]
    }
   ],
   "source": [
    "print(students)"
   ]
  },
  {
   "cell_type": "code",
   "execution_count": 144,
   "id": "9aa0ca45-fdc4-439e-b14d-5cc4ec60c2b0",
   "metadata": {},
   "outputs": [
    {
     "ename": "ValueError",
     "evalue": "list.remove(x): x not in list",
     "output_type": "error",
     "traceback": [
      "\u001b[1;31m---------------------------------------------------------------------------\u001b[0m",
      "\u001b[1;31mValueError\u001b[0m                                Traceback (most recent call last)",
      "Cell \u001b[1;32mIn[144], line 1\u001b[0m\n\u001b[1;32m----> 1\u001b[0m \u001b[38;5;28mprint\u001b[39m(students\u001b[38;5;241m.\u001b[39mremove(\u001b[38;5;124m\"\u001b[39m\u001b[38;5;124musman\u001b[39m\u001b[38;5;124m\"\u001b[39m))\n",
      "\u001b[1;31mValueError\u001b[0m: list.remove(x): x not in list"
     ]
    }
   ],
   "source": [
    "print(students.remove(\"usman\"))"
   ]
  },
  {
   "cell_type": "code",
   "execution_count": 150,
   "id": "2b09cfe1-1390-4786-8691-8698f4598b7e",
   "metadata": {},
   "outputs": [
    {
     "name": "stdout",
     "output_type": "stream",
     "text": [
      "None\n"
     ]
    }
   ],
   "source": [
    "print(students.remove(\"Usman\"))"
   ]
  },
  {
   "cell_type": "code",
   "execution_count": 152,
   "id": "d1c710d7-b062-4409-a906-ea2eb9a171ec",
   "metadata": {},
   "outputs": [
    {
     "name": "stdout",
     "output_type": "stream",
     "text": [
      "['Irfan', 'Mustafa', 'Rizwan', 'Farhan']\n"
     ]
    }
   ],
   "source": [
    "print(students)"
   ]
  },
  {
   "cell_type": "code",
   "execution_count": 164,
   "id": "86a0c07c-3bb0-4036-b572-59c6b46426c0",
   "metadata": {},
   "outputs": [
    {
     "name": "stdout",
     "output_type": "stream",
     "text": [
      "Farhan\n"
     ]
    }
   ],
   "source": [
    "print(students.pop())"
   ]
  },
  {
   "cell_type": "code",
   "execution_count": 174,
   "id": "1f2b33c1-27b9-44cd-ae09-4075073e3ca3",
   "metadata": {},
   "outputs": [
    {
     "ename": "SyntaxError",
     "evalue": "invalid syntax (878332716.py, line 1)",
     "output_type": "error",
     "traceback": [
      "\u001b[1;36m  Cell \u001b[1;32mIn[174], line 1\u001b[1;36m\u001b[0m\n\u001b[1;33m    print(students[-])\u001b[0m\n\u001b[1;37m                    ^\u001b[0m\n\u001b[1;31mSyntaxError\u001b[0m\u001b[1;31m:\u001b[0m invalid syntax\n"
     ]
    }
   ],
   "source": [
    "print(students[-])"
   ]
  },
  {
   "cell_type": "code",
   "execution_count": 176,
   "id": "d3959be6-6cc5-4254-80f9-aad710dd0e63",
   "metadata": {},
   "outputs": [
    {
     "name": "stdout",
     "output_type": "stream",
     "text": [
      "['Irfan', 'Mustafa', 'Rizwan']\n"
     ]
    }
   ],
   "source": [
    "print(students)"
   ]
  },
  {
   "cell_type": "code",
   "execution_count": 178,
   "id": "10acf205-581c-4e78-9ed1-ea8633d86e2e",
   "metadata": {},
   "outputs": [
    {
     "ename": "TypeError",
     "evalue": "'builtin_function_or_method' object is not subscriptable",
     "output_type": "error",
     "traceback": [
      "\u001b[1;31m---------------------------------------------------------------------------\u001b[0m",
      "\u001b[1;31mTypeError\u001b[0m                                 Traceback (most recent call last)",
      "Cell \u001b[1;32mIn[178], line 1\u001b[0m\n\u001b[1;32m----> 1\u001b[0m \u001b[38;5;28mprint\u001b[39m(students\u001b[38;5;241m.\u001b[39mremove[\u001b[38;5;241m-\u001b[39m\u001b[38;5;241m1\u001b[39m])\n",
      "\u001b[1;31mTypeError\u001b[0m: 'builtin_function_or_method' object is not subscriptable"
     ]
    }
   ],
   "source": [
    "print(students.remove[-1])"
   ]
  },
  {
   "cell_type": "code",
   "execution_count": null,
   "id": "07ae103e-3cd3-49a9-b30d-fe8c39211cbc",
   "metadata": {},
   "outputs": [],
   "source": []
  }
 ],
 "metadata": {
  "kernelspec": {
   "display_name": "Python [conda env:base] *",
   "language": "python",
   "name": "conda-base-py"
  },
  "language_info": {
   "codemirror_mode": {
    "name": "ipython",
    "version": 3
   },
   "file_extension": ".py",
   "mimetype": "text/x-python",
   "name": "python",
   "nbconvert_exporter": "python",
   "pygments_lexer": "ipython3",
   "version": "3.12.7"
  }
 },
 "nbformat": 4,
 "nbformat_minor": 5
}
